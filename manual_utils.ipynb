{
 "cells": [
  {
   "cell_type": "code",
   "execution_count": null,
   "id": "f5b6b06c-9172-4b0d-a262-d763eb8d7943",
   "metadata": {},
   "outputs": [],
   "source": [
    "import geopandas as gpd\n",
    "import pandas as pd\n",
    "import numpy as np\n",
    "\n",
    "import utils"
   ]
  },
  {
   "cell_type": "code",
   "execution_count": null,
   "id": "a7ae74bd-6aa2-4be5-a948-8b84b8e79332",
   "metadata": {
    "jupyter": {
     "source_hidden": true
    },
    "tags": []
   },
   "outputs": [],
   "source": [
    "#### 2020 ####\n",
    "column_semantics_2020 = {\n",
    "    'Investment number': 'investment_id',\n",
    "    'This investment belongs to project number…': 'project_id',\n",
    "    'Commissioning Year': 'commissioning_year',\n",
    "    'Status ID\\n1 : Under Consideration,\\n2 : In Planning but not permitting,\\n3 : In permitting,\\n4 : Under Construction': 'status',\n",
    "    'Type of Element': 'asset_type',\n",
    "    'Substation From': 'substation_1',\n",
    "    'Substation To': 'substation_2',\n",
    "    'Technology': 'ac_dc',\n",
    "    'Total route length (km)': 'specified_length_km',\n",
    "    'Description of the investment': 'description'\n",
    "}\n",
    "\n",
    "status_map_2020 = {\n",
    "    1: 'under_consideration', # under consideration\n",
    "    2: 'planned_not_yet_permitting', # planning, not permitting\n",
    "    3: 'in_permitting', # in permitting\n",
    "    4: 'under_construction'  # under construction\n",
    "}\n",
    "# No need to separate AC and DC as there is a separate column\n",
    "# in the TYNDP data.\n",
    "asset_type_map_2020 = {\n",
    "    'ACTransmissionLine': 'line',\n",
    "    'DCTransmissionLine': 'line',\n",
    "    'OnshoreSubstation': 'substation',\n",
    "    'OffshoreSubstation': 'substation',\n",
    "    # 'cable' will be mapped to 'line' after adding column 'underground' of binary values.\n",
    "    'OffshoreDCTransmissionCable': 'cable',\n",
    "    'OffshoreACTransmissionCable': 'cable'\n",
    "}\n",
    "\n",
    "excel_2020, sheet_2020 = '2020/transmission.xlsx', 'Trans.Investments'"
   ]
  },
  {
   "cell_type": "code",
   "execution_count": null,
   "id": "d4410b02-f216-4149-b28d-7e11da5e1937",
   "metadata": {
    "jupyter": {
     "source_hidden": true
    },
    "tags": []
   },
   "outputs": [],
   "source": [
    "#### 2018 ####\n",
    "column_semantics_2018 = {\n",
    "    'Investment ID': 'investment_id',\n",
    "    'ExpectedCommissioningYear': 'commissioning_year',\n",
    "    'Status': 'status',\n",
    "    'ElementsType': 'asset_type',\n",
    "    'From': 'substation_1',\n",
    "    'To': 'substation_2',\n",
    "    'TechnologyType': 'ac_dc',\n",
    "    'VoltageLevel (kV)': 'voltage',\n",
    "    'TotalRouteLength (km)': 'specified_length_km'\n",
    "}\n",
    "\n",
    "status_map_2018 = {\n",
    "    'under consideration': 1,\n",
    "    'planned but not yet permitting': 2,\n",
    "    'permitting': 3,\n",
    "    'under construction': 4\n",
    "}\n",
    "asset_type_map_2018 = {\n",
    "    'Overhead Line': 'line',\n",
    "    'Substation': 'substation',\n",
    "    'Subsea Cable': 'cable',\n",
    "    'Underground Cable': 'cable'\n",
    "}\n",
    "\n",
    "excel_2018, sheet_2018 =  r'2018/TYNDP_2018_Project_List.xlsx', 'Sheet1'"
   ]
  },
  {
   "cell_type": "code",
   "execution_count": null,
   "id": "330aed17-1c7d-4113-b9bb-d8c6c9f903bb",
   "metadata": {
    "jupyter": {
     "source_hidden": true
    },
    "tags": []
   },
   "outputs": [],
   "source": [
    "#### 2016 ####\n",
    "column_semantics_2016 = {\n",
    "    'TYNDP 2016 Investment Index': 'investment_id',\n",
    "    'TYNDP 2016 expected commissioning date': 'commissioning_year',\n",
    "    'TYNDP 2016 status name': 'status',\n",
    "    'Element type': 'asset_type',\n",
    "    'From Substation name': 'substation_1',\n",
    "    'To Substation name': 'substation_2',\n",
    "    'AC or DC': 'ac_dc',\n",
    "    'Voltage Level': 'voltage',\n",
    "    'Line length [km]': 'specified_length_km'\n",
    "}\n",
    "# TODO: commissioned, planning, design\n",
    "# TODO: rather specify rows we want to keep? E.g. via list\n",
    "# TODO: map values to strings (semantics!), then choose only those that are 'in permitting' or 'under construction'\n",
    "status_map_2016 = {\n",
    "    'under consideration': 1,\n",
    "    'Design & Permitting': 2,\n",
    "    'permitting': 3,\n",
    "    'under construction': 4\n",
    "}\n",
    "asset_type_map_2016 = {\n",
    "    'Overhead Line': 'line',\n",
    "    'Substation': 'substation',\n",
    "    'Subsea Cable': 'cable',\n",
    "    'Underground Cable': 'cable'\n",
    "}\n",
    "\n",
    "excel_2016, sheet_2016 = r'2016/TYNDP2016_Projects data.xlsx', 'Investments'"
   ]
  },
  {
   "cell_type": "code",
   "execution_count": null,
   "id": "016288ba-510e-45e4-820c-608a9eda52ff",
   "metadata": {},
   "outputs": [],
   "source": [
    "# wanted = tyndp_to_pypsa.prepare_tyndp_data(excel_2010, sheet_2010, column_semantics_2010, status_map_2010, header_row=2)\n",
    "# wanted = tyndp_to_pypsa.prepare_tyndp_data(excel_2012, sheet_2012, column_semantics_2012, status_map_2012, header_row=4)\n",
    "#wanted = tyndp_to_pypsa.prepare_tyndp_data(excel_2014, sheet_2014, column_semantics_2014, status_map_2014)\n",
    "tyndp = utils.prepare_tyndp_data(excel_2020, sheet_2020, column_semantics_2020, status_map_2020, asset_type_map=asset_type_map_2020,header_row=1, base_url=r'https://tyndp2020-project-platform.azurewebsites.net/projectsheets/transmission/')\n",
    "tyndp.head()"
   ]
  },
  {
   "cell_type": "code",
   "execution_count": null,
   "id": "32e1be61-2e30-45e2-b4ed-dea062b0e4cb",
   "metadata": {},
   "outputs": [],
   "source": [
    "# tyndp.commissioning_year = utils.commissioning_dates_to_year(tyndp.commissioning_year)\n",
    "tyndp['x1'], tyndp['y1'], tyndp['x2'], tyndp['y2'] = np.NAN, np.NAN, np.NAN, np.NAN"
   ]
  },
  {
   "cell_type": "code",
   "execution_count": null,
   "id": "3b48f230-0df2-4d80-9e79-5f2e85a6515a",
   "metadata": {},
   "outputs": [],
   "source": [
    "tyndp.to_csv('2020/2020_curated.csv')"
   ]
  },
  {
   "cell_type": "code",
   "execution_count": null,
   "id": "e77bf52e-7238-46f7-8df7-c691694c0081",
   "metadata": {},
   "outputs": [],
   "source": [
    "# read in newest buses.csv\n",
    "buses = (pd.read_csv('buses.csv', quotechar=\"'\",\n",
    "                     true_values='t', false_values='f',\n",
    "                     dtype=dict(bus_id=\"str\"))\n",
    "         .set_index(\"bus_id\")\n",
    "         .drop(['station_id'], axis=1)\n",
    "         .rename(columns=dict(voltage='v_nom')))\n",
    "buses = buses.query('symbol == \"Substation\"')"
   ]
  },
  {
   "cell_type": "code",
   "execution_count": null,
   "id": "3586dad0-790e-451b-b932-8940b3a02619",
   "metadata": {},
   "outputs": [],
   "source": [
    "# TODO: maybe add option to plot pypsa-eur lines with switch (-> check whether line exists / is placed wrongly)\n",
    "\n",
    "import plotly.express as px\n",
    "\n",
    "fig = px.scatter_mapbox(buses, lat=\"y\", lon=\"x\", color_discrete_sequence=[\"fuchsia\"], zoom=3, height=600)\n",
    "fig.update_layout(mapbox_style=\"open-street-map\")\n",
    "fig.update_layout(margin={\"r\":0,\"t\":0,\"l\":0,\"b\":0})\n",
    "\n",
    "fig.show()"
   ]
  },
  {
   "cell_type": "code",
   "execution_count": null,
   "id": "b7dcbf9e-54f8-45d0-b4c5-2cfd26041c4f",
   "metadata": {},
   "outputs": [],
   "source": [
    "# consecutive coordinates are interpreted as start and endpoints?\n",
    "lats = [48, 50] \n",
    "lons = [10, 12]\n",
    "fig = px.line_geo(lat=lats, lon=lons)# , color=3*['fuchsia'])\n",
    "fig.update_layout(mapbox_style=\"open-street-map\")\n",
    "fig.update_layout(margin={\"r\":0,\"t\":0,\"l\":0,\"b\":0})\n",
    "fig.show()"
   ]
  },
  {
   "cell_type": "code",
   "execution_count": null,
   "id": "3daab5fc-9343-4f18-b34f-aff7cc7aab92",
   "metadata": {},
   "outputs": [],
   "source": []
  }
 ],
 "metadata": {
  "kernelspec": {
   "display_name": "Python [conda env:pypsa-eur]",
   "language": "python",
   "name": "conda-env-pypsa-eur-py"
  },
  "language_info": {
   "codemirror_mode": {
    "name": "ipython",
    "version": 3
   },
   "file_extension": ".py",
   "mimetype": "text/x-python",
   "name": "python",
   "nbconvert_exporter": "python",
   "pygments_lexer": "ipython3",
   "version": "3.9.7"
  }
 },
 "nbformat": 4,
 "nbformat_minor": 5
}
