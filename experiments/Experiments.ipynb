{
 "cells": [
  {
   "cell_type": "code",
   "execution_count": null,
   "id": "94d1948a",
   "metadata": {},
   "outputs": [],
   "source": [
    "import sys\n",
    "from geopy import *\n",
    "import pandas as pd\n",
    "import numpy as np\n",
    "\n",
    "import tyndp_to_pypsa\n",
    "\n",
    "sys.path.insert(1, '../')\n",
    "import utils"
   ]
  },
  {
   "cell_type": "code",
   "execution_count": null,
   "id": "4fecc293",
   "metadata": {},
   "outputs": [],
   "source": [
    "#### 2020 ####\n",
    "column_semantics_2020 = {\n",
    "    'Investment number': 'investment_id',\n",
    "    'This investment belongs to project number…': 'project_id',\n",
    "    'Commissioning Year': 'commissioning_year',\n",
    "    'Status ID\\n1 : Under Consideration,\\n2 : In Planning but not permitting,\\n3 : In permitting,\\n4 : Under Construction': 'status',\n",
    "    'Type of Element': 'asset_type',\n",
    "    'Substation From': 'substation_1',\n",
    "    'Substation To': 'substation_2',\n",
    "    'Technology': 'ac_dc',\n",
    "    'Total route length (km)': 'specified_length_km',\n",
    "    'Description of the investment': 'description'\n",
    "}\n",
    "\n",
    "status_map_2020 = {\n",
    "    1: 'under_consideration', # under consideration\n",
    "    2: 'planned_not_yet_permitting', # planning, not permitting\n",
    "    3: 'in_permitting', # in permitting\n",
    "    4: 'under_construction'  # under construction\n",
    "}\n",
    "# No need to separate AC and DC as there is a separate column\n",
    "# in the TYNDP data.\n",
    "asset_type_map_2020 = {\n",
    "    'ACTransmissionLine': 'line',\n",
    "    'DCTransmissionLine': 'line',\n",
    "    'OnshoreSubstation': 'substation',\n",
    "    'OffshoreSubstation': 'substation',\n",
    "    # 'cable' will be mapped to 'line' after adding column 'underground' of binary values.\n",
    "    'OffshoreDCTransmissionCable': 'cable',\n",
    "    'OffshoreACTransmissionCable': 'cable'\n",
    "}\n",
    "\n",
    "excel_2020, sheet_2020 = r'../2020/transmission.xlsx', 'Trans.Investments'"
   ]
  },
  {
   "cell_type": "code",
   "execution_count": null,
   "id": "ef5290be",
   "metadata": {},
   "outputs": [],
   "source": [
    "#### 2018 ####\n",
    "column_semantics_2018 = {\n",
    "    'Investment ID': 'investment_id',\n",
    "    'ExpectedCommissioningYear': 'commissioning_year',\n",
    "    'Status': 'status',\n",
    "    'ElementsType': 'asset_type',\n",
    "    'From': 'substation_1',\n",
    "    'To': 'substation_2',\n",
    "    'TechnologyType': 'ac_dc',\n",
    "    'VoltageLevel (kV)': 'voltage',\n",
    "    'TotalRouteLength (km)': 'specified_length_km'\n",
    "}\n",
    "\n",
    "status_map_2018 = {\n",
    "    'under consideration': 1,\n",
    "    'planned but not yet permitting': 2,\n",
    "    'permitting': 3,\n",
    "    'under construction': 4\n",
    "}\n",
    "asset_type_map_2018 = {\n",
    "    'Overhead Line': 'line',\n",
    "    'Substation': 'substation',\n",
    "    'Subsea Cable': 'cable',\n",
    "    'Underground Cable': 'cable'\n",
    "}\n",
    "\n",
    "excel_2018, sheet_2018 =  r'../2018/TYNDP_2018_Project_List.xlsx', 'Sheet1'"
   ]
  },
  {
   "cell_type": "code",
   "execution_count": null,
   "id": "eccba072",
   "metadata": {},
   "outputs": [],
   "source": [
    "#### 2016 ####\n",
    "column_semantics_2016 = {\n",
    "    'TYNDP 2016 Investment Index': 'investment_id',\n",
    "    'TYNDP 2016 expected commissioning date': 'commissioning_year',\n",
    "    'TYNDP 2016 status name': 'status',\n",
    "    'Element type': 'asset_type',\n",
    "    'From Substation name': 'substation_1',\n",
    "    'To Substation name': 'substation_2',\n",
    "    'AC or DC': 'ac_dc',\n",
    "    'Voltage Level': 'voltage',\n",
    "    'Line length [km]': 'specified_length_km'\n",
    "}\n",
    "# TODO: commissioned, planning, design\n",
    "# TODO: rather specify rows we want to keep? E.g. via list\n",
    "# TODO: map values to strings (semantics!), then choose only those that are 'in permitting' or 'under construction'\n",
    "status_map_2016 = {\n",
    "    'under consideration': 1,\n",
    "    'Design & Permitting': 2,\n",
    "    'permitting': 3,\n",
    "    'under construction': 4\n",
    "}\n",
    "asset_type_map_2016 = {\n",
    "    'Overhead Line': 'line',\n",
    "    'Substation': 'substation',\n",
    "    'Subsea Cable': 'cable',\n",
    "    'Underground Cable': 'cable'\n",
    "}\n",
    "\n",
    "excel_2016, sheet_2016 = r'../2016/TYNDP2016_Projects data.xlsx', 'Investments'"
   ]
  },
  {
   "cell_type": "code",
   "execution_count": null,
   "id": "0cecd99d",
   "metadata": {},
   "outputs": [],
   "source": [
    "#### 2014 ####\n",
    "column_semantics_2014 = {\n",
    "    'Investment index': 'investment_id',\n",
    "    'Expected date of commissioning': 'commissioning_year',\n",
    "    'Present status': 'status',\n",
    "    'Substation 1': 'substation_1',\n",
    "    'Substation 2': 'substation_2',\n",
    "    'Description': 'description'\n",
    "}\n",
    "# TODO: commissioned, planning, design\n",
    "# TODO: rather specify rows we want to keep? E.g. via list\n",
    "# TODO: map values to strings (semantics!), then choose only those that are 'in permitting' or 'under construction'\n",
    "status_map_2014 = {\n",
    "    'under consideration': 1,\n",
    "    'Design & Permitting': 2,\n",
    "    'permitting': 3,\n",
    "    'under construction': 4\n",
    "}\n",
    "\n",
    "excel_2014, sheet_2014 = r'../2014/TYNDP2014_Projects_and_CBA assessment.xlsx', 'Investments' "
   ]
  },
  {
   "cell_type": "code",
   "execution_count": null,
   "id": "71fd2e16",
   "metadata": {},
   "outputs": [],
   "source": [
    "#### 2012 ####\n",
    "column_semantics_2012 = {\n",
    "    'Investment number': 'investment_id',\n",
    "    'Expected date of commissioning': 'commissioning_year',\n",
    "    'Present status': 'status',\n",
    "    'Substation 1': 'substation_1',\n",
    "    'Substation 2': 'substation_2',\n",
    "    'Brief technical description': 'description'\n",
    "}\n",
    "status_map_2012 = {\n",
    "    'under consideration': 1,\n",
    "    'Design & Permitting': 2,\n",
    "    'permitting': 3,\n",
    "    'under construction': 4\n",
    "}\n",
    "\n",
    "excel_2012, sheet_2012 = r'../2012/120705_Table of projects_TYNDP 2012_package_FINAL.xlsx', 'TYNDP 2012 report' "
   ]
  },
  {
   "cell_type": "code",
   "execution_count": null,
   "id": "339d4628",
   "metadata": {},
   "outputs": [],
   "source": [
    "#### 2010 ####\n",
    "column_semantics_2010 = {\n",
    "    'REF on map': 'investment_id',\n",
    "    'Expected time of commissioning': 'commissioning_year',\n",
    "    'Progress status': 'status',\n",
    "    'Substation 1': 'substation_1',\n",
    "    'Substation 2': 'substation_2',\n",
    "    'Project characteristics': 'description'\n",
    "}\n",
    "status_map_2010 = {\n",
    "    'under consideration': 1,\n",
    "    'Design & Permitting': 2,\n",
    "    'permitting': 3,\n",
    "    'under construction': 4\n",
    "}\n",
    "\n",
    "excel_2010, sheet_2010 = r'../2010/Table_of_projects_for_publication.xls', 'TABLE OF PROJECTS' "
   ]
  },
  {
   "cell_type": "code",
   "execution_count": null,
   "id": "5837e596",
   "metadata": {},
   "outputs": [],
   "source": [
    "wanted = utils.prepare_tyndp_data(excel_2020, sheet_2020, column_semantics_2020, status_map_2020, asset_type_map=asset_type_map_2020,header_row=1, base_url=r'https://tyndp2020-project-platform.azurewebsites.net/projectsheets/transmission/')\n",
    "wanted.head()"
   ]
  },
  {
   "cell_type": "code",
   "execution_count": null,
   "id": "5c6b3b76",
   "metadata": {},
   "outputs": [],
   "source": [
    "lines     = wanted.loc[wanted['asset_type'] == 'line']\n",
    "new_subst = wanted.loc[wanted['asset_type'] == 'substation']\n",
    "lines     = lines.query(\"substation_1 not in @new_subst\")\n",
    "lines     = lines.query(\"substation_2 not in @new_subst\")"
   ]
  },
  {
   "cell_type": "code",
   "execution_count": null,
   "id": "3b1a7e15",
   "metadata": {},
   "outputs": [],
   "source": [
    "# TODO: temporary. Implement functionality to get substations of line length not given.\n",
    "lines = lines.loc[~lines.specified_length_km.isna()]"
   ]
  },
  {
   "cell_type": "markdown",
   "id": "88925634",
   "metadata": {},
   "source": [
    "# Use bus names from buses.csv (v0.1.0)\n",
    "See https://github.com/PyPSA/pypsa-eur/blob/v0.1.0rc/data/entsoegridkit/buses.csv. Data is from 2017 (newer gridkit extracts do not contain 'tags' with substation names)."
   ]
  },
  {
   "cell_type": "code",
   "execution_count": null,
   "id": "f0e5dac1",
   "metadata": {},
   "outputs": [],
   "source": [
    "curated_buses = tyndp_to_pypsa.extract_name_country()\n",
    "curated_buses.head()"
   ]
  },
  {
   "cell_type": "markdown",
   "id": "2268e79f",
   "metadata": {},
   "source": [
    "## There are substations which share the same name but have different coordinates\n",
    "- large deviation between coordinates => substations are most likely in different countries \n",
    "    - BUT: it does occur that different places in the same country get the same name\n",
    "- small deviation between coordinates => reference to same substation (error in gridextract?)"
   ]
  },
  {
   "cell_type": "code",
   "execution_count": null,
   "id": "6ac44b84",
   "metadata": {},
   "outputs": [],
   "source": [
    "# TODO: added 'NI' although Northern Ireland probably appears in PyPSA as 'GB'. Find a better solution.\n",
    "pypsa_countries = ['AL', 'AT', 'BA', 'BE', 'BG', 'CH', 'CZ', 'DE', 'DK', 'EE', 'ES', 'FI', 'FR', 'GB', 'GR', 'HR', 'HU', 'IE', 'IT', 'LT', 'LU', 'LV', 'ME', 'MK', 'NI', 'NL', 'NO', 'PL', 'PT', 'RO', 'RS', 'SE', 'SI', 'SK']"
   ]
  },
  {
   "cell_type": "markdown",
   "id": "748409f9",
   "metadata": {},
   "source": [
    "### List of all duplicates"
   ]
  },
  {
   "cell_type": "code",
   "execution_count": null,
   "id": "62404295",
   "metadata": {},
   "outputs": [],
   "source": [
    "duplicated = curated_buses.loc[curated_buses.name.duplicated()]\n",
    "duplicated = duplicated.query(\"country in @pypsa_countries\")\n",
    "\n",
    "# for name in duplicated.name.unique():\n",
    "#     print(name)\n",
    "#     for index, row in curated_buses.query('name == @name').iterrows():\n",
    "#         print(f\"({row['x']}, {row['y']}), {row['country']}\")\n",
    "#     print('----')"
   ]
  },
  {
   "cell_type": "markdown",
   "id": "085874fc",
   "metadata": {},
   "source": [
    "### Same name and country, large deviations"
   ]
  },
  {
   "cell_type": "code",
   "execution_count": null,
   "id": "1f357af5",
   "metadata": {},
   "outputs": [],
   "source": [
    "curated_buses.query(\"name == 'Yuzhnaya'\")"
   ]
  },
  {
   "cell_type": "markdown",
   "id": "890dbbb9",
   "metadata": {},
   "source": [
    "### Same name, different country, large deviation"
   ]
  },
  {
   "cell_type": "code",
   "execution_count": null,
   "id": "3af9b257",
   "metadata": {},
   "outputs": [],
   "source": [
    "curated_buses.query(\"name == 'Saida'\")"
   ]
  },
  {
   "cell_type": "code",
   "execution_count": null,
   "id": "97011c44",
   "metadata": {},
   "outputs": [],
   "source": [
    "curated_buses.query(\"name == 'Titan'\")"
   ]
  },
  {
   "cell_type": "markdown",
   "id": "6f213c3a",
   "metadata": {},
   "source": [
    "## (TODO) Add new substations"
   ]
  },
  {
   "cell_type": "code",
   "execution_count": null,
   "id": "ee72a035",
   "metadata": {},
   "outputs": [],
   "source": [
    "# on_subst\n",
    "\n",
    "# extract country if it matches regex\n",
    "# otherwise, np.NAN"
   ]
  },
  {
   "cell_type": "markdown",
   "id": "fc18f39b",
   "metadata": {},
   "source": [
    "## Remove '(\\<Country Code\\>) ' from tyndp substation name strings, add new column instead\n",
    "Otherwise, this could negatively impact the Levenshtein distance."
   ]
  },
  {
   "cell_type": "code",
   "execution_count": null,
   "id": "439fed19",
   "metadata": {},
   "outputs": [],
   "source": [
    "lines = tyndp_to_pypsa.prepare_substation_names(lines)\n",
    "lines.head()"
   ]
  },
  {
   "cell_type": "markdown",
   "id": "7fb0b560",
   "metadata": {},
   "source": [
    "## create mapping from all unique tyndp substation names to substation names from 'buses'"
   ]
  },
  {
   "cell_type": "code",
   "execution_count": null,
   "id": "a07a6d1d",
   "metadata": {},
   "outputs": [],
   "source": [
    "tyndp_to_bus = tyndp_to_pypsa.tyndp_to_substation(lines, curated_buses)"
   ]
  },
  {
   "cell_type": "code",
   "execution_count": null,
   "id": "f6e00719",
   "metadata": {},
   "outputs": [],
   "source": [
    "# a, b = 'Turleenan', 'Guillena'\n",
    "# a, b = 'Pyhanselka', 'Pyhänselkä'\n",
    "# a, b = 'Tuomela B', 'Tudela'\n",
    "# a, b =  'Heviz (HU) \\\\ Zerjavinec', 'Žerjavinec'\n",
    "# Levenshtein.distance(a.lower(), b.lower())"
   ]
  },
  {
   "cell_type": "markdown",
   "id": "eb8a643d",
   "metadata": {},
   "source": [
    "# Match start- and endpoints of lines to substations from buses.csv"
   ]
  },
  {
   "cell_type": "code",
   "execution_count": null,
   "id": "1d06fbc2",
   "metadata": {},
   "outputs": [],
   "source": [
    "results = tyndp_to_pypsa.match_tyndp_with_buses(lines, tyndp_to_bus, curated_buses)\n",
    "results.head()"
   ]
  },
  {
   "cell_type": "code",
   "execution_count": null,
   "id": "02194996",
   "metadata": {},
   "outputs": [],
   "source": [
    "# TODO: only join with result to compare original location and substation names with inferred\n",
    "# result = lines.copy()\n",
    "# result = result.join(coordinates)\n",
    "\n",
    "percentage = results.index.size / lines.index.size\n",
    "print(f'{percentage * 100}% of lines are probably correct.')\n",
    "\n",
    "# print('Lines where we probably found the correct coordinates:')\n",
    "# result.loc[~result.s1.isna()]"
   ]
  },
  {
   "cell_type": "markdown",
   "id": "4a13a60c",
   "metadata": {},
   "source": [
    "# Determine remaining coordinates using geopy"
   ]
  },
  {
   "cell_type": "code",
   "execution_count": null,
   "id": "f7569e4d",
   "metadata": {},
   "outputs": [],
   "source": [
    "error_lines = lines.loc[~lines.index.isin(results.index)]"
   ]
  },
  {
   "cell_type": "code",
   "execution_count": null,
   "id": "89d5037a",
   "metadata": {},
   "outputs": [],
   "source": [
    "geopy_results = tyndp_to_pypsa.match_tyndp_with_geopy(error_lines)\n",
    "geopy_results.head()"
   ]
  },
  {
   "cell_type": "code",
   "execution_count": null,
   "id": "b34e7c5d",
   "metadata": {},
   "outputs": [],
   "source": [
    "results = results.append(geopy_results)\n",
    "\n",
    "percentage = results.index.size / lines.index.size\n",
    "print(f'{percentage * 100}% of lines are probably correct.')"
   ]
  },
  {
   "cell_type": "markdown",
   "id": "8e3f373c",
   "metadata": {},
   "source": [
    "# Map commissioning dates to yearly values"
   ]
  },
  {
   "cell_type": "code",
   "execution_count": null,
   "id": "f8c322cd",
   "metadata": {},
   "outputs": [],
   "source": [
    "results['commissioning_year'] = tyndp_to_pypsa.commissioning_dates_to_year(results['commissioning_year'])"
   ]
  },
  {
   "cell_type": "code",
   "execution_count": null,
   "id": "7ea25da5",
   "metadata": {},
   "outputs": [],
   "source": [
    "results"
   ]
  },
  {
   "cell_type": "markdown",
   "id": "2d3683ae",
   "metadata": {},
   "source": [
    "# Load lines.csv and add commissioning years\n",
    "- find out which lines are updated (e.g. with higher voltage)\n",
    "- add new lines\n",
    "- add fixed commissioning year to lines where we're missing this information"
   ]
  },
  {
   "cell_type": "code",
   "execution_count": null,
   "id": "770f8c21",
   "metadata": {},
   "outputs": [],
   "source": [
    "import numpy as np\n",
    "import scipy.spatial"
   ]
  },
  {
   "cell_type": "code",
   "execution_count": null,
   "id": "1da1d74e",
   "metadata": {},
   "outputs": [],
   "source": [
    "def match_with_pypsa_lines(tyndp, lines_file='lines.csv', distance_upper_bound=1.25):\n",
    "    # based on '_find_closest_links'\n",
    "    # from https://github.com/PyPSA/pypsa-eur/blob/master/scripts/base_network.py\n",
    "    pypsa_lines = (pd.read_csv(lines_file, quotechar=\"'\", true_values=['t'], false_values=['f'],\n",
    "                         dtype=dict(line_id='str', bus0='str', bus1='str', under_construction=\"bool\"))\n",
    "             .set_index('line_id'))\n",
    "    pypsa_lines['length'] /= 1e3\n",
    "\n",
    "    treecoords = np.asarray([np.asarray(shapely.wkt.loads(s))[[0, -1]].flatten()\n",
    "                          for s in pypsa_lines.geometry])\n",
    "    querycoords = np.vstack([tyndp[['x1', 'y1', 'x2', 'y2']], \n",
    "                         tyndp[['x2', 'y2', 'x1', 'y1']]])\n",
    "    tree = scipy.spatial.KDTree(treecoords)\n",
    "    dist, ind = tree.query(querycoords, distance_upper_bound=distance_upper_bound)\n",
    "\n",
    "    found_b = ind < len(pypsa_lines)\n",
    "    found_i = np.arange(len(tyndp) * 2)[found_b] % len(tyndp)\n",
    "\n",
    "    matched = pd.DataFrame(data=pypsa_lines.index[ind[found_b] % len(pypsa_lines)], index=tyndp.index[found_i])\n",
    "\n",
    "    return tyndp.join(matched)"
   ]
  },
  {
   "cell_type": "code",
   "execution_count": null,
   "id": "d0465ed6",
   "metadata": {},
   "outputs": [],
   "source": [
    "# TODO: find out bus ids for new lines"
   ]
  },
  {
   "cell_type": "code",
   "execution_count": null,
   "id": "3794dfb8",
   "metadata": {},
   "outputs": [],
   "source": []
  }
 ],
 "metadata": {
  "interpreter": {
   "hash": "cdca8c707c434b39b417dc857b4af1f9891b6adf7280fe32211f5f286254d91b"
  },
  "kernelspec": {
   "display_name": "Python 3.10.4 ('pypsa-eur')",
   "language": "python",
   "name": "python3"
  },
  "language_info": {
   "codemirror_mode": {
    "name": "ipython",
    "version": 3
   },
   "file_extension": ".py",
   "mimetype": "text/x-python",
   "name": "python",
   "nbconvert_exporter": "python",
   "pygments_lexer": "ipython3",
   "version": "3.10.4"
  }
 },
 "nbformat": 4,
 "nbformat_minor": 5
}
