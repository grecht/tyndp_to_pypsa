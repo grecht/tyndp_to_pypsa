{
 "cells": [
  {
   "cell_type": "code",
   "execution_count": 11,
   "id": "996f04a5",
   "metadata": {},
   "outputs": [],
   "source": [
    "from geopy.geocoders import Nominatim\n",
    "from geopy import distance\n",
    "import pandas as pd\n",
    "import numpy as np\n",
    "import math\n",
    "import re"
   ]
  },
  {
   "cell_type": "code",
   "execution_count": 7,
   "id": "1280a60f",
   "metadata": {},
   "outputs": [
    {
     "data": {
      "text/html": [
       "<div>\n",
       "<style scoped>\n",
       "    .dataframe tbody tr th:only-of-type {\n",
       "        vertical-align: middle;\n",
       "    }\n",
       "\n",
       "    .dataframe tbody tr th {\n",
       "        vertical-align: top;\n",
       "    }\n",
       "\n",
       "    .dataframe thead th {\n",
       "        text-align: right;\n",
       "    }\n",
       "</style>\n",
       "<table border=\"1\" class=\"dataframe\">\n",
       "  <thead>\n",
       "    <tr style=\"text-align: right;\">\n",
       "      <th></th>\n",
       "      <th>Investment number</th>\n",
       "      <th>This investment belongs to project number…</th>\n",
       "      <th>Commissioning Year</th>\n",
       "      <th>Status ID\\n1 : Under Consideration,\\n2 : In Planning but not permitting,\\n3 : In permitting,\\n4 : Under Construction</th>\n",
       "      <th>Type of Element</th>\n",
       "      <th>Substation From</th>\n",
       "      <th>Substation To</th>\n",
       "      <th>Technology</th>\n",
       "      <th>Total route length (km)</th>\n",
       "    </tr>\n",
       "  </thead>\n",
       "  <tbody>\n",
       "    <tr>\n",
       "      <th>1</th>\n",
       "      <td>2</td>\n",
       "      <td>1</td>\n",
       "      <td>2024</td>\n",
       "      <td>2</td>\n",
       "      <td>ACTransmissionLine</td>\n",
       "      <td>Pedralva (PT)</td>\n",
       "      <td>Sobrado (PT)</td>\n",
       "      <td>AC</td>\n",
       "      <td>67</td>\n",
       "    </tr>\n",
       "    <tr>\n",
       "      <th>2</th>\n",
       "      <td>4</td>\n",
       "      <td>1</td>\n",
       "      <td>2022</td>\n",
       "      <td>3</td>\n",
       "      <td>ACTransmissionLine</td>\n",
       "      <td>V.Minho (by Ribeira de Pena)</td>\n",
       "      <td>Feira (by Ribeira de Pena)</td>\n",
       "      <td>AC</td>\n",
       "      <td>131</td>\n",
       "    </tr>\n",
       "    <tr>\n",
       "      <th>3</th>\n",
       "      <td>474</td>\n",
       "      <td>1</td>\n",
       "      <td>2021</td>\n",
       "      <td>3</td>\n",
       "      <td>OnshoreSubstation</td>\n",
       "      <td>Ribeira de Pena (PT)</td>\n",
       "      <td>-</td>\n",
       "      <td>AC</td>\n",
       "      <td>0</td>\n",
       "    </tr>\n",
       "    <tr>\n",
       "      <th>4</th>\n",
       "      <td>18</td>\n",
       "      <td>4</td>\n",
       "      <td>2022</td>\n",
       "      <td>3</td>\n",
       "      <td>ACTransmissionLine</td>\n",
       "      <td>Beariz (ES)</td>\n",
       "      <td>Fontefria (ES)</td>\n",
       "      <td>AC</td>\n",
       "      <td>30</td>\n",
       "    </tr>\n",
       "    <tr>\n",
       "      <th>5</th>\n",
       "      <td>496</td>\n",
       "      <td>4</td>\n",
       "      <td>2022</td>\n",
       "      <td>3</td>\n",
       "      <td>ACTransmissionLine</td>\n",
       "      <td>Fontefria (ES)</td>\n",
       "      <td>Vila Nova de Famalicão (PT) (By Ponte de Lima)</td>\n",
       "      <td>AC</td>\n",
       "      <td>140.21</td>\n",
       "    </tr>\n",
       "    <tr>\n",
       "      <th>...</th>\n",
       "      <td>...</td>\n",
       "      <td>...</td>\n",
       "      <td>...</td>\n",
       "      <td>...</td>\n",
       "      <td>...</td>\n",
       "      <td>...</td>\n",
       "      <td>...</td>\n",
       "      <td>...</td>\n",
       "      <td>...</td>\n",
       "    </tr>\n",
       "    <tr>\n",
       "      <th>317</th>\n",
       "      <td>1747</td>\n",
       "      <td>1077</td>\n",
       "      <td>2036</td>\n",
       "      <td>1</td>\n",
       "      <td>DCTransmissionLine</td>\n",
       "      <td>Thessaloniki</td>\n",
       "      <td>Dubrovo</td>\n",
       "      <td>DC</td>\n",
       "      <td>110</td>\n",
       "    </tr>\n",
       "    <tr>\n",
       "      <th>318</th>\n",
       "      <td>1748</td>\n",
       "      <td>1077</td>\n",
       "      <td>2036</td>\n",
       "      <td>1</td>\n",
       "      <td>DCTransmissionLine</td>\n",
       "      <td>Dubrovo</td>\n",
       "      <td>Ch. Mogila</td>\n",
       "      <td>DC</td>\n",
       "      <td>170</td>\n",
       "    </tr>\n",
       "    <tr>\n",
       "      <th>319</th>\n",
       "      <td>1745</td>\n",
       "      <td>1081</td>\n",
       "      <td>2036</td>\n",
       "      <td>1</td>\n",
       "      <td>OffshoreDCTransmissionCable</td>\n",
       "      <td>Tobruk</td>\n",
       "      <td>Arachtos</td>\n",
       "      <td>DC</td>\n",
       "      <td>1070</td>\n",
       "    </tr>\n",
       "    <tr>\n",
       "      <th>320</th>\n",
       "      <td>1749</td>\n",
       "      <td>1081</td>\n",
       "      <td>2036</td>\n",
       "      <td>1</td>\n",
       "      <td>DCTransmissionLine</td>\n",
       "      <td>Arachtos</td>\n",
       "      <td>Elbasan</td>\n",
       "      <td>DC</td>\n",
       "      <td>180</td>\n",
       "    </tr>\n",
       "    <tr>\n",
       "      <th>321</th>\n",
       "      <td>1750</td>\n",
       "      <td>1082</td>\n",
       "      <td>2035</td>\n",
       "      <td>1</td>\n",
       "      <td>OffshoreSubstation</td>\n",
       "      <td>New substation connection to 400kV/220kV lines...</td>\n",
       "      <td>Not applicable - offshore connection point at ...</td>\n",
       "      <td>AC</td>\n",
       "      <td>40</td>\n",
       "    </tr>\n",
       "  </tbody>\n",
       "</table>\n",
       "<p>321 rows × 9 columns</p>\n",
       "</div>"
      ],
      "text/plain": [
       "0   Investment number This investment belongs to project number…  \\\n",
       "1                   2                                          1   \n",
       "2                   4                                          1   \n",
       "3                 474                                          1   \n",
       "4                  18                                          4   \n",
       "5                 496                                          4   \n",
       "..                ...                                        ...   \n",
       "317              1747                                       1077   \n",
       "318              1748                                       1077   \n",
       "319              1745                                       1081   \n",
       "320              1749                                       1081   \n",
       "321              1750                                       1082   \n",
       "\n",
       "0   Commissioning Year  \\\n",
       "1                 2024   \n",
       "2                 2022   \n",
       "3                 2021   \n",
       "4                 2022   \n",
       "5                 2022   \n",
       "..                 ...   \n",
       "317               2036   \n",
       "318               2036   \n",
       "319               2036   \n",
       "320               2036   \n",
       "321               2035   \n",
       "\n",
       "0   Status ID\\n1 : Under Consideration,\\n2 : In Planning but not permitting,\\n3 : In permitting,\\n4 : Under Construction  \\\n",
       "1                                                    2                                                                     \n",
       "2                                                    3                                                                     \n",
       "3                                                    3                                                                     \n",
       "4                                                    3                                                                     \n",
       "5                                                    3                                                                     \n",
       "..                                                 ...                                                                     \n",
       "317                                                  1                                                                     \n",
       "318                                                  1                                                                     \n",
       "319                                                  1                                                                     \n",
       "320                                                  1                                                                     \n",
       "321                                                  1                                                                     \n",
       "\n",
       "0                Type of Element  \\\n",
       "1             ACTransmissionLine   \n",
       "2             ACTransmissionLine   \n",
       "3              OnshoreSubstation   \n",
       "4             ACTransmissionLine   \n",
       "5             ACTransmissionLine   \n",
       "..                           ...   \n",
       "317           DCTransmissionLine   \n",
       "318           DCTransmissionLine   \n",
       "319  OffshoreDCTransmissionCable   \n",
       "320           DCTransmissionLine   \n",
       "321           OffshoreSubstation   \n",
       "\n",
       "0                                      Substation From  \\\n",
       "1                                        Pedralva (PT)   \n",
       "2                         V.Minho (by Ribeira de Pena)   \n",
       "3                                 Ribeira de Pena (PT)   \n",
       "4                                          Beariz (ES)   \n",
       "5                                       Fontefria (ES)   \n",
       "..                                                 ...   \n",
       "317                                       Thessaloniki   \n",
       "318                                            Dubrovo   \n",
       "319                                             Tobruk   \n",
       "320                                           Arachtos   \n",
       "321  New substation connection to 400kV/220kV lines...   \n",
       "\n",
       "0                                        Substation To Technology  \\\n",
       "1                                         Sobrado (PT)         AC   \n",
       "2                           Feira (by Ribeira de Pena)         AC   \n",
       "3                                                    -         AC   \n",
       "4                                       Fontefria (ES)         AC   \n",
       "5       Vila Nova de Famalicão (PT) (By Ponte de Lima)         AC   \n",
       "..                                                 ...        ...   \n",
       "317                                            Dubrovo         DC   \n",
       "318                                         Ch. Mogila         DC   \n",
       "319                                           Arachtos         DC   \n",
       "320                                            Elbasan         DC   \n",
       "321  Not applicable - offshore connection point at ...         AC   \n",
       "\n",
       "0   Total route length (km)  \n",
       "1                        67  \n",
       "2                       131  \n",
       "3                         0  \n",
       "4                        30  \n",
       "5                    140.21  \n",
       "..                      ...  \n",
       "317                     110  \n",
       "318                     170  \n",
       "319                    1070  \n",
       "320                     180  \n",
       "321                      40  \n",
       "\n",
       "[321 rows x 9 columns]"
      ]
     },
     "execution_count": 7,
     "metadata": {},
     "output_type": "execute_result"
    }
   ],
   "source": [
    "excel = 'transmission.xlsx'\n",
    "sheet = 'Trans.Investments'\n",
    "\n",
    "df = pd.read_excel(excel, sheet_name=sheet)\n",
    "\n",
    "# TODO: might not work in later versions, use sanity check.\n",
    "df.columns = df.iloc[0]\n",
    "df         = df.drop(index=df.index[0])\n",
    "\n",
    "# TODO: also contains new substations!\n",
    "\n",
    "wanted_columns = ['Investment number',\n",
    "                  'This investment belongs to project number…',\n",
    "                  'Commissioning Year',\n",
    "                  'Status ID\\n1 : Under Consideration,\\n2 : In Planning but not permitting,\\n3 : In permitting,\\n4 : Under Construction',\n",
    "                  'Type of Element',\n",
    "                  'Substation From',\n",
    "                  'Substation To',\n",
    "                  'Technology',\n",
    "                  'Total route length (km)']\n",
    "df[wanted_columns]"
   ]
  },
  {
   "cell_type": "code",
   "execution_count": 48,
   "id": "88615986",
   "metadata": {},
   "outputs": [],
   "source": [
    "wanted   = df[wanted_columns]\n",
    "ac_lines = wanted.loc[wanted['Type of Element'] == 'ACTransmissionLine']\n",
    "ac_lines = ac_lines.reindex(columns=ac_lines.columns.tolist() + ['x1', 'y1', 'x2', 'y2', 'coord_distance'])\n",
    "ac_lines = ac_lines.loc[]"
   ]
  },
  {
   "cell_type": "code",
   "execution_count": 51,
   "id": "e4ab1700",
   "metadata": {},
   "outputs": [
    {
     "ename": "KeyError",
     "evalue": "'Status ID%'",
     "output_type": "error",
     "traceback": [
      "\u001b[0;31m---------------------------------------------------------------------------\u001b[0m",
      "\u001b[0;31mKeyError\u001b[0m                                  Traceback (most recent call last)",
      "\u001b[0;32m~/anaconda3/lib/python3.8/site-packages/pandas/core/indexes/base.py\u001b[0m in \u001b[0;36mget_loc\u001b[0;34m(self, key, method, tolerance)\u001b[0m\n\u001b[1;32m   3080\u001b[0m             \u001b[0;32mtry\u001b[0m\u001b[0;34m:\u001b[0m\u001b[0;34m\u001b[0m\u001b[0;34m\u001b[0m\u001b[0m\n\u001b[0;32m-> 3081\u001b[0;31m                 \u001b[0;32mreturn\u001b[0m \u001b[0mself\u001b[0m\u001b[0;34m.\u001b[0m\u001b[0m_engine\u001b[0m\u001b[0;34m.\u001b[0m\u001b[0mget_loc\u001b[0m\u001b[0;34m(\u001b[0m\u001b[0mcasted_key\u001b[0m\u001b[0;34m)\u001b[0m\u001b[0;34m\u001b[0m\u001b[0;34m\u001b[0m\u001b[0m\n\u001b[0m\u001b[1;32m   3082\u001b[0m             \u001b[0;32mexcept\u001b[0m \u001b[0mKeyError\u001b[0m \u001b[0;32mas\u001b[0m \u001b[0merr\u001b[0m\u001b[0;34m:\u001b[0m\u001b[0;34m\u001b[0m\u001b[0;34m\u001b[0m\u001b[0m\n",
      "\u001b[0;32mpandas/_libs/index.pyx\u001b[0m in \u001b[0;36mpandas._libs.index.IndexEngine.get_loc\u001b[0;34m()\u001b[0m\n",
      "\u001b[0;32mpandas/_libs/index.pyx\u001b[0m in \u001b[0;36mpandas._libs.index.IndexEngine.get_loc\u001b[0;34m()\u001b[0m\n",
      "\u001b[0;32mpandas/_libs/hashtable_class_helper.pxi\u001b[0m in \u001b[0;36mpandas._libs.hashtable.PyObjectHashTable.get_item\u001b[0;34m()\u001b[0m\n",
      "\u001b[0;32mpandas/_libs/hashtable_class_helper.pxi\u001b[0m in \u001b[0;36mpandas._libs.hashtable.PyObjectHashTable.get_item\u001b[0;34m()\u001b[0m\n",
      "\u001b[0;31mKeyError\u001b[0m: 'Status ID%'",
      "\nThe above exception was the direct cause of the following exception:\n",
      "\u001b[0;31mKeyError\u001b[0m                                  Traceback (most recent call last)",
      "\u001b[0;32m<ipython-input-51-def80d5661d9>\u001b[0m in \u001b[0;36m<module>\u001b[0;34m\u001b[0m\n\u001b[0;32m----> 1\u001b[0;31m \u001b[0mac_lines\u001b[0m\u001b[0;34m.\u001b[0m\u001b[0mloc\u001b[0m\u001b[0;34m[\u001b[0m\u001b[0mac_lines\u001b[0m\u001b[0;34m[\u001b[0m\u001b[0;34m'Status ID%'\u001b[0m\u001b[0;34m]\u001b[0m \u001b[0;34m>=\u001b[0m \u001b[0;36m3\u001b[0m\u001b[0;34m]\u001b[0m\u001b[0;34m\u001b[0m\u001b[0;34m\u001b[0m\u001b[0m\n\u001b[0m",
      "\u001b[0;32m~/anaconda3/lib/python3.8/site-packages/pandas/core/frame.py\u001b[0m in \u001b[0;36m__getitem__\u001b[0;34m(self, key)\u001b[0m\n\u001b[1;32m   3022\u001b[0m             \u001b[0;32mif\u001b[0m \u001b[0mself\u001b[0m\u001b[0;34m.\u001b[0m\u001b[0mcolumns\u001b[0m\u001b[0;34m.\u001b[0m\u001b[0mnlevels\u001b[0m \u001b[0;34m>\u001b[0m \u001b[0;36m1\u001b[0m\u001b[0;34m:\u001b[0m\u001b[0;34m\u001b[0m\u001b[0;34m\u001b[0m\u001b[0m\n\u001b[1;32m   3023\u001b[0m                 \u001b[0;32mreturn\u001b[0m \u001b[0mself\u001b[0m\u001b[0;34m.\u001b[0m\u001b[0m_getitem_multilevel\u001b[0m\u001b[0;34m(\u001b[0m\u001b[0mkey\u001b[0m\u001b[0;34m)\u001b[0m\u001b[0;34m\u001b[0m\u001b[0;34m\u001b[0m\u001b[0m\n\u001b[0;32m-> 3024\u001b[0;31m             \u001b[0mindexer\u001b[0m \u001b[0;34m=\u001b[0m \u001b[0mself\u001b[0m\u001b[0;34m.\u001b[0m\u001b[0mcolumns\u001b[0m\u001b[0;34m.\u001b[0m\u001b[0mget_loc\u001b[0m\u001b[0;34m(\u001b[0m\u001b[0mkey\u001b[0m\u001b[0;34m)\u001b[0m\u001b[0;34m\u001b[0m\u001b[0;34m\u001b[0m\u001b[0m\n\u001b[0m\u001b[1;32m   3025\u001b[0m             \u001b[0;32mif\u001b[0m \u001b[0mis_integer\u001b[0m\u001b[0;34m(\u001b[0m\u001b[0mindexer\u001b[0m\u001b[0;34m)\u001b[0m\u001b[0;34m:\u001b[0m\u001b[0;34m\u001b[0m\u001b[0;34m\u001b[0m\u001b[0m\n\u001b[1;32m   3026\u001b[0m                 \u001b[0mindexer\u001b[0m \u001b[0;34m=\u001b[0m \u001b[0;34m[\u001b[0m\u001b[0mindexer\u001b[0m\u001b[0;34m]\u001b[0m\u001b[0;34m\u001b[0m\u001b[0;34m\u001b[0m\u001b[0m\n",
      "\u001b[0;32m~/anaconda3/lib/python3.8/site-packages/pandas/core/indexes/base.py\u001b[0m in \u001b[0;36mget_loc\u001b[0;34m(self, key, method, tolerance)\u001b[0m\n\u001b[1;32m   3081\u001b[0m                 \u001b[0;32mreturn\u001b[0m \u001b[0mself\u001b[0m\u001b[0;34m.\u001b[0m\u001b[0m_engine\u001b[0m\u001b[0;34m.\u001b[0m\u001b[0mget_loc\u001b[0m\u001b[0;34m(\u001b[0m\u001b[0mcasted_key\u001b[0m\u001b[0;34m)\u001b[0m\u001b[0;34m\u001b[0m\u001b[0;34m\u001b[0m\u001b[0m\n\u001b[1;32m   3082\u001b[0m             \u001b[0;32mexcept\u001b[0m \u001b[0mKeyError\u001b[0m \u001b[0;32mas\u001b[0m \u001b[0merr\u001b[0m\u001b[0;34m:\u001b[0m\u001b[0;34m\u001b[0m\u001b[0;34m\u001b[0m\u001b[0m\n\u001b[0;32m-> 3083\u001b[0;31m                 \u001b[0;32mraise\u001b[0m \u001b[0mKeyError\u001b[0m\u001b[0;34m(\u001b[0m\u001b[0mkey\u001b[0m\u001b[0;34m)\u001b[0m \u001b[0;32mfrom\u001b[0m \u001b[0merr\u001b[0m\u001b[0;34m\u001b[0m\u001b[0;34m\u001b[0m\u001b[0m\n\u001b[0m\u001b[1;32m   3084\u001b[0m \u001b[0;34m\u001b[0m\u001b[0m\n\u001b[1;32m   3085\u001b[0m         \u001b[0;32mif\u001b[0m \u001b[0mtolerance\u001b[0m \u001b[0;32mis\u001b[0m \u001b[0;32mnot\u001b[0m \u001b[0;32mNone\u001b[0m\u001b[0;34m:\u001b[0m\u001b[0;34m\u001b[0m\u001b[0;34m\u001b[0m\u001b[0m\n",
      "\u001b[0;31mKeyError\u001b[0m: 'Status ID%'"
     ]
    }
   ],
   "source": [
    "ac_lines.loc[ac_lines['Status ID%'] >= 3]"
   ]
  },
  {
   "cell_type": "code",
   "execution_count": 94,
   "id": "09934ae4",
   "metadata": {},
   "outputs": [],
   "source": [
    "locator = Nominatim(user_agent='esm_group')\n",
    "geocode = RateLimiter(locator.geocode, min_delay_seconds=0.05)"
   ]
  },
  {
   "cell_type": "code",
   "execution_count": 95,
   "id": "350301a2",
   "metadata": {},
   "outputs": [],
   "source": [
    "x1 = []\n",
    "y1 = []\n",
    "x2 = []\n",
    "y2 = []\n",
    "\n",
    "error_rows = []\n",
    "\n",
    "for index, row in ac_lines.iterrows():\n",
    "    fr   = row['Substation From']\n",
    "    to   = row['Substation To']\n",
    "    dist = row['Total route length (km)']\n",
    "\n",
    "    fr_loc = geocode(fr)\n",
    "    to_loc = geocode(to)\n",
    "\n",
    "    if fr_loc is None or to_loc is None:\n",
    "        error_rows.append([row.values])\n",
    "        continue\n",
    "        \n",
    "    fr_coords  = fr_loc.latitude, fr_loc.longitude\n",
    "    to_coords  = to_loc.latitude, to_loc.longitude\n",
    "    coord_dist = distance.distance(fr_coords, to_coords).km\n",
    "\n",
    "    if math.isclose(coord_dist, dist, rel_tol=0.25):\n",
    "        x1.append(fr_coords[0])\n",
    "        y1.append(fr_coords[1])\n",
    "        \n",
    "        x2.append(to_coords[0])\n",
    "        y2.append(to_coords[1])\n",
    "    else:\n",
    "        error_rows.append([row.values])\n",
    "        # x1.append(np.NAN)\n",
    "        # y1.append(np.NAN)\n",
    "        \n",
    "        # x2.append(np.NAN)\n",
    "        # y2.append(np.NAN)"
   ]
  },
  {
   "cell_type": "code",
   "execution_count": 99,
   "id": "df9cf243",
   "metadata": {},
   "outputs": [
    {
     "data": {
      "text/plain": [
       "(55, 122)"
      ]
     },
     "execution_count": 99,
     "metadata": {},
     "output_type": "execute_result"
    }
   ],
   "source": [
    "len(x1), len(error_rows)"
   ]
  },
  {
   "cell_type": "code",
   "execution_count": 92,
   "id": "8b95b812",
   "metadata": {},
   "outputs": [
    {
     "data": {
      "text/plain": [
       "[array([4, 1, '2022', 3, 'ACTransmissionLine',\n",
       "        'V.Minho (by Ribeira de Pena)', 'Feira (by Ribeira de Pena)', 'AC',\n",
       "        131, nan, nan, nan, nan, nan], dtype=object),\n",
       " array([496, 4, '2022', 3, 'ACTransmissionLine', 'Fontefria (ES)',\n",
       "        'Vila Nova de Famalicão (PT) (By Ponte de Lima)', 'AC', 140.21,\n",
       "        nan, nan, nan, nan, nan], dtype=object),\n",
       " array([60, 23, '2022', 4, 'ACTransmissionLine', 'Avelin/Mastaing (FR)',\n",
       "        'Horta (BE)', 'AC', 80, nan, nan, nan, nan, nan], dtype=object)]"
      ]
     },
     "execution_count": 92,
     "metadata": {},
     "output_type": "execute_result"
    }
   ],
   "source": [
    "error_rows"
   ]
  },
  {
   "cell_type": "markdown",
   "id": "227980dd",
   "metadata": {},
   "source": [
    "# Use bus names from buses.csv (v0.1.0)"
   ]
  },
  {
   "cell_type": "code",
   "execution_count": 5,
   "id": "d0f64fb7",
   "metadata": {},
   "outputs": [],
   "source": [
    "buses_file = 'buses_v0.1.0.csv'\n",
    "# see base_network.py in PyPSA-Eur repository\n",
    "buses = (pd.read_csv(buses_file, quotechar=\"'\",\n",
    "                     true_values='t', false_values='f',\n",
    "                     dtype=dict(bus_id=\"str\"))\n",
    "        .set_index(\"bus_id\")\n",
    "        .drop(['station_id'], axis=1)\n",
    "        .rename(columns=dict(voltage='v_nom')))"
   ]
  },
  {
   "cell_type": "code",
   "execution_count": 42,
   "id": "fd64a815",
   "metadata": {},
   "outputs": [],
   "source": [
    "test = buses.iloc[0].tags.split(',')\n",
    "test = [s.strip() for s in test]"
   ]
  },
  {
   "cell_type": "code",
   "execution_count": 32,
   "id": "7b0f4a4d",
   "metadata": {},
   "outputs": [
    {
     "data": {
      "text/plain": [
       "['\"oid\"=>\"637\"',\n",
       " '\"country\"=>\"SA\"',\n",
       " '\"visible\"=>\"1\"',\n",
       " '\"capacity\"=>\"-1.0\"',\n",
       " '\"name_eng\"=>\"Jeddah\"',\n",
       " '\"name_nat\"=>\" \"',\n",
       " '\"objectid\"=>\"657.0\"',\n",
       " '\"duplicate\"=>\"2\"',\n",
       " '\"mb_symbol\"=>\"substation\"',\n",
       " '\"annotation\"=>\"\"']"
      ]
     },
     "execution_count": 32,
     "metadata": {},
     "output_type": "execute_result"
    }
   ],
   "source": [
    "test"
   ]
  },
  {
   "cell_type": "code",
   "execution_count": 33,
   "id": "a119ca62",
   "metadata": {},
   "outputs": [],
   "source": [
    "p = re.compile(r'\"(?P<key>\\w+)\"=>\"(?P<value>[\\w\\s\\-\\.]*)\"')\n",
    "m = p.match(test[0])"
   ]
  },
  {
   "cell_type": "code",
   "execution_count": 37,
   "id": "049e92ad",
   "metadata": {},
   "outputs": [
    {
     "data": {
      "text/plain": [
       "'637'"
      ]
     },
     "execution_count": 37,
     "metadata": {},
     "output_type": "execute_result"
    }
   ],
   "source": [
    "m.group('value')"
   ]
  },
  {
   "cell_type": "markdown",
   "id": "1dcb61f6",
   "metadata": {},
   "source": [
    "## Add columns name_eng and country to buses df"
   ]
  },
  {
   "cell_type": "code",
   "execution_count": 113,
   "id": "86aaf34a",
   "metadata": {},
   "outputs": [
    {
     "name": "stdout",
     "output_type": "stream",
     "text": [
      "['\"oid\"=>\"637\"', '\"country\"=>\"SA\"', '\"visible\"=>\"1\"', '\"capacity\"=>\"-1.0\"', '\"name_eng\"=>\"Jeddah\"', '\"name_nat\"=>\" \"', '\"objectid\"=>\"657.0\"', '\"duplicate\"=>\"2\"', '\"mb_symbol\"=>\"substation\"', '\"annotation\"=>\"\"']\n"
     ]
    },
    {
     "ename": "TypeError",
     "evalue": "expected string or bytes-like object",
     "output_type": "error",
     "traceback": [
      "\u001b[0;31m---------------------------------------------------------------------------\u001b[0m",
      "\u001b[0;31mTypeError\u001b[0m                                 Traceback (most recent call last)",
      "\u001b[0;32m<ipython-input-113-730e4a2baa30>\u001b[0m in \u001b[0;36m<module>\u001b[0;34m\u001b[0m\n\u001b[1;32m     20\u001b[0m \u001b[0;34m\u001b[0m\u001b[0m\n\u001b[1;32m     21\u001b[0m         \u001b[0;32mfor\u001b[0m \u001b[0mtag\u001b[0m \u001b[0;32min\u001b[0m \u001b[0mtags\u001b[0m\u001b[0;34m:\u001b[0m\u001b[0;34m\u001b[0m\u001b[0;34m\u001b[0m\u001b[0m\n\u001b[0;32m---> 22\u001b[0;31m             \u001b[0mm\u001b[0m \u001b[0;34m=\u001b[0m \u001b[0mtag_pattern\u001b[0m\u001b[0;34m.\u001b[0m\u001b[0mmatch\u001b[0m\u001b[0;34m(\u001b[0m\u001b[0mtags\u001b[0m\u001b[0;34m)\u001b[0m\u001b[0;34m\u001b[0m\u001b[0;34m\u001b[0m\u001b[0m\n\u001b[0m\u001b[1;32m     23\u001b[0m \u001b[0;34m\u001b[0m\u001b[0m\n\u001b[1;32m     24\u001b[0m             \u001b[0;32mif\u001b[0m \u001b[0mm\u001b[0m \u001b[0;32mis\u001b[0m \u001b[0;32mNone\u001b[0m\u001b[0;34m:\u001b[0m\u001b[0;34m\u001b[0m\u001b[0;34m\u001b[0m\u001b[0m\n",
      "\u001b[0;31mTypeError\u001b[0m: expected string or bytes-like object"
     ]
    }
   ],
   "source": [
    "split_regex = r'(\"\\w+\"=>\"[^\"]*\"),'\n",
    "\n",
    "tag_regex   = r'\"(?P<key>\\w+)\"=>\"(?P<value>[^\"]*)\"'\n",
    "tag_pattern = re.compile(tag_regex)\n",
    "\n",
    "names     = []\n",
    "countries = []\n",
    "\n",
    "for index, row in buses.iterrows():\n",
    "    name    = ''\n",
    "    country = ''\n",
    "    \n",
    "    tags = row['tags']\n",
    "    # print(tags)\n",
    "    \n",
    "    if tags is not np.NAN:\n",
    "        tags = re.split(split_regex, tags)\n",
    "        tags = list(filter(None, [s.strip() for s in tags]))\n",
    "        print(tags)\n",
    "    \n",
    "        for tag in tags:\n",
    "            m = tag_pattern.match(tags)\n",
    "            \n",
    "            if m is None:\n",
    "                print(tag)\n",
    "            \n",
    "            key   = m.group('key')\n",
    "            value = m.group('value')\n",
    "        \n",
    "            if key == 'name_eng':\n",
    "                name = value\n",
    "            elif key == 'country':\n",
    "                country = value\n",
    "            \n",
    "    names.append(name)\n",
    "    countries.append(countries)"
   ]
  },
  {
   "cell_type": "code",
   "execution_count": 57,
   "id": "ca8f56e8",
   "metadata": {},
   "outputs": [],
   "source": [
    "# string = '\"oid\"=>\"2801\", \"country\"=>\"UA\", \"visible\"=>\"1\", \"capacity\"=>\"-1.0\", \"name_eng\"=>\"Promet., Прометей\", \"name_nat\"=>\" \", \"objectid\"=>\"2928.0\", \"duplicate\"=>\"1\", \"mb_symbol\"=>\"substation\", \"annotation\"=>\"Promet., Прометей\"'\n",
    "# string = '\"oid\"=>\"2740\", \"country\"=>\"UA\", \"visible\"=>\"1\", \"capacity\"=>\"-1.0\", \"name_eng\"=>\"Kryvorizka TPP\", \"name_nat\"=>\"Криворізька ТЕС\", \"objectid\"=>\"2867.0\", \"duplicate\"=>\"1\", \"mb_symbol\"=>\"other_nl\", \"annotation\"=>\"Kryvorizka TPP\"\"oid\"=>\"2796\", \"country\"=>\"UA\", \"visible\"=>\"1\", \"capacity\"=>\"-1.0\", \"name_eng\"=>\"Kirova\", \"name_nat\"=>\"Кірова\", \"objectid\"=>\"2923.0\", \"duplicate\"=>\"1\", \"mb_symbol\"=>\"substation\", \"annotation\"=>\"Kirova\"'\n",
    "m = p.match(string)"
   ]
  },
  {
   "cell_type": "code",
   "execution_count": 80,
   "id": "a042d08e",
   "metadata": {},
   "outputs": [
    {
     "ename": "AttributeError",
     "evalue": "'NoneType' object has no attribute 'groups'",
     "output_type": "error",
     "traceback": [
      "\u001b[0;31m---------------------------------------------------------------------------\u001b[0m",
      "\u001b[0;31mAttributeError\u001b[0m                            Traceback (most recent call last)",
      "\u001b[0;32m<ipython-input-80-219112c48125>\u001b[0m in \u001b[0;36m<module>\u001b[0;34m\u001b[0m\n\u001b[1;32m      4\u001b[0m \u001b[0mstring\u001b[0m \u001b[0;34m=\u001b[0m \u001b[0;34m'\"name_eng\"=>\"Promet., Прометей\", \"name_nat\"=>\" \", \"objectid\"=>\"2928.0\", \"duplicate\"=>\"1\", \"mb_symbol\"=>\"substation\", \"annotation\"=>\"Promet., Прометей\"'\u001b[0m\u001b[0;34m\u001b[0m\u001b[0;34m\u001b[0m\u001b[0m\n\u001b[1;32m      5\u001b[0m \u001b[0mm\u001b[0m \u001b[0;34m=\u001b[0m \u001b[0mp\u001b[0m\u001b[0;34m.\u001b[0m\u001b[0mmatch\u001b[0m\u001b[0;34m(\u001b[0m\u001b[0mstring\u001b[0m\u001b[0;34m)\u001b[0m\u001b[0;34m\u001b[0m\u001b[0;34m\u001b[0m\u001b[0m\n\u001b[0;32m----> 6\u001b[0;31m \u001b[0mm\u001b[0m\u001b[0;34m.\u001b[0m\u001b[0mgroups\u001b[0m\u001b[0;34m(\u001b[0m\u001b[0;34m)\u001b[0m\u001b[0;34m\u001b[0m\u001b[0;34m\u001b[0m\u001b[0m\n\u001b[0m",
      "\u001b[0;31mAttributeError\u001b[0m: 'NoneType' object has no attribute 'groups'"
     ]
    }
   ],
   "source": [
    "tag_regex = r'(?P<tag>\"(?P<key>\\w+)\"=>\"(?P<value>[^\"]*))\"'\n",
    "p         = re.compile(tag_regex)\n",
    "\n",
    "string = '\"name_eng\"=>\"Promet., Прометей\", \"name_nat\"=>\" \", \"objectid\"=>\"2928.0\", \"duplicate\"=>\"1\", \"mb_symbol\"=>\"substation\", \"annotation\"=>\"Promet., Прометей\"'\n",
    "m = p.match(string)\n",
    "m.groups()"
   ]
  },
  {
   "cell_type": "code",
   "execution_count": 96,
   "id": "543f94ea",
   "metadata": {},
   "outputs": [],
   "source": [
    "string = '\"name_eng\"=>\"Promet., Прометей\", \"name_nat\"=>\" \", \"objectid\"=>\"2928.0\"'\n",
    "\n",
    "pattern = r'(\"\\w+\"=>\"[^\"]*\"),'\n",
    "splitted = re.split(pattern, string)"
   ]
  },
  {
   "cell_type": "code",
   "execution_count": 106,
   "id": "690604f2",
   "metadata": {},
   "outputs": [],
   "source": [
    "splitted = list(filter(None, [s.strip() for s in splitted]))"
   ]
  },
  {
   "cell_type": "code",
   "execution_count": 107,
   "id": "773ae2cb",
   "metadata": {
    "scrolled": true
   },
   "outputs": [
    {
     "data": {
      "text/plain": [
       "['\"name_eng\"=>\"Promet., Прометей\"', '\"name_nat\"=>\" \"', '\"objectid\"=>\"2928.0\"']"
      ]
     },
     "execution_count": 107,
     "metadata": {},
     "output_type": "execute_result"
    }
   ],
   "source": [
    "splitted"
   ]
  }
 ],
 "metadata": {
  "kernelspec": {
   "display_name": "Python [conda env:pypsa-eur] *",
   "language": "python",
   "name": "conda-env-pypsa-eur-py"
  },
  "language_info": {
   "codemirror_mode": {
    "name": "ipython",
    "version": 3
   },
   "file_extension": ".py",
   "mimetype": "text/x-python",
   "name": "python",
   "nbconvert_exporter": "python",
   "pygments_lexer": "ipython3",
   "version": "3.8.10"
  }
 },
 "nbformat": 4,
 "nbformat_minor": 5
}
